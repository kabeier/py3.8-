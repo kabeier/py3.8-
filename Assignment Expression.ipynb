{
 "cells": [
  {
   "cell_type": "markdown",
   "metadata": {},
   "source": [
    "### The Assignment Expression -- The Walrus := Operator<br>\n",
    "<b>As of Python 3.8</b><br><p>\n",
    "The assignment expression allows the assignment and the return of a value in the same expression\n",
    "<br>\n",
    "This does not do anything that cannot be without it, but it makes some constructs easier to achieve with better readability\n",
    " <br>\n",
    "    The scope of the assigned varible will leak out of the while loop.\n",
    "</p>"
   ]
  },
  {
   "cell_type": "code",
   "execution_count": 25,
   "metadata": {},
   "outputs": [
    {
     "name": "stdout",
     "output_type": "stream",
     "text": [
      "Taco\n"
     ]
    }
   ],
   "source": [
    "#You can assign a varible\n",
    "food = \"Taco\"\n",
    "#Then use the varible\n",
    "print(food)\n"
   ]
  },
  {
   "cell_type": "code",
   "execution_count": 26,
   "metadata": {
    "scrolled": true
   },
   "outputs": [
    {
     "ename": "TypeError",
     "evalue": "'food' is an invalid keyword argument for print()",
     "output_type": "error",
     "traceback": [
      "\u001b[0;31m---------------------------------------------------------------------------\u001b[0m",
      "\u001b[0;31mTypeError\u001b[0m                                 Traceback (most recent call last)",
      "\u001b[0;32m<ipython-input-26-68a1af5422bd>\u001b[0m in \u001b[0;36m<module>\u001b[0;34m\u001b[0m\n\u001b[1;32m      1\u001b[0m \u001b[0;31m#You cannot assign the varible and use it at the same time, because it will be treated as a keyword argument\u001b[0m\u001b[0;34m\u001b[0m\u001b[0;34m\u001b[0m\u001b[0;34m\u001b[0m\u001b[0m\n\u001b[0;32m----> 2\u001b[0;31m \u001b[0mprint\u001b[0m\u001b[0;34m(\u001b[0m\u001b[0mfood\u001b[0m\u001b[0;34m=\u001b[0m\u001b[0;34m\"Taco\"\u001b[0m\u001b[0;34m)\u001b[0m\u001b[0;34m\u001b[0m\u001b[0;34m\u001b[0m\u001b[0m\n\u001b[0m",
      "\u001b[0;31mTypeError\u001b[0m: 'food' is an invalid keyword argument for print()"
     ]
    }
   ],
   "source": [
    "#You cannot assign the varible and use it at the same time, because it will be treated as a keyword argument\n",
    "print(food=\"Taco\")"
   ]
  },
  {
   "cell_type": "code",
   "execution_count": null,
   "metadata": {},
   "outputs": [],
   "source": [
    "#The walrus operator changes that\n",
    "print(food:=\"Taco\")\n",
    "print(f\"I Love {food}'s!\")"
   ]
  },
  {
   "cell_type": "markdown",
   "metadata": {},
   "source": [
    "### Usage in While loops\n",
    "<br>\n",
    "<p>Follow the evolution of the following command line program to create a word bank from user input</p>"
   ]
  },
  {
   "cell_type": "code",
   "execution_count": 22,
   "metadata": {},
   "outputs": [
    {
     "name": "stdout",
     "output_type": "stream",
     "text": [
      "Enter a word or type Q to Quit: I\n",
      "Enter a word or type Q to Quit: ain't\n",
      "Enter a word or type Q to Quit: got\n",
      "Enter a word or type Q to Quit: no\n",
      "Enter a word or type Q to Quit: game,\n",
      "Enter a word or type Q to Quit: it's\n",
      "Enter a word or type Q to Quit: just\n",
      "Enter a word or type Q to Quit: some\n",
      "Enter a word or type Q to Quit: bitches\n",
      "Enter a word or type Q to Quit: understand\n",
      "Enter a word or type Q to Quit: my\n",
      "Enter a word or type Q to Quit: story\n",
      "Enter a word or type Q to Quit: Q\n"
     ]
    }
   ],
   "source": [
    "# This works but you have to ask for input twice \n",
    "word_bank=list()\n",
    "word=input(\"Enter a word or type Q to Quit: \")\n",
    "while(word != \"Q\"):\n",
    "    word_bank.append(word)\n",
    "    word=input(\"Enter a word or type Q to Quit: \")\n",
    "    "
   ]
  },
  {
   "cell_type": "code",
   "execution_count": 23,
   "metadata": {},
   "outputs": [
    {
     "name": "stdout",
     "output_type": "stream",
     "text": [
      "Enter a word or type Q to Quit: I'm\n",
      "Enter a word or type Q to Quit: out\n",
      "Enter a word or type Q to Quit: for\n",
      "Enter a word or type Q to Quit: dead\n",
      "Enter a word or type Q to Quit: presidents\n",
      "Enter a word or type Q to Quit: to\n",
      "Enter a word or type Q to Quit: represent\n",
      "Enter a word or type Q to Quit: me\n",
      "Enter a word or type Q to Quit: Q\n"
     ]
    }
   ],
   "source": [
    "# This is better but harder to understand how the loop breaks\n",
    "word_bank=list()\n",
    "while True:\n",
    "    word=input(\"Enter a word or type Q to Quit: \")\n",
    "    if word==\"Q\":\n",
    "        break\n",
    "    word_bank.append(word)"
   ]
  },
  {
   "cell_type": "code",
   "execution_count": 24,
   "metadata": {},
   "outputs": [
    {
     "name": "stdout",
     "output_type": "stream",
     "text": [
      "Enter a word or type Q to Quit: I\n",
      "Enter a word or type Q to Quit: never\n",
      "Enter a word or type Q to Quit: sleep\n",
      "Enter a word or type Q to Quit: 'cause\n",
      "Enter a word or type Q to Quit: sleep\n",
      "Enter a word or type Q to Quit: is\n",
      "Enter a word or type Q to Quit: the\n",
      "Enter a word or type Q to Quit: cousin\n",
      "Enter a word or type Q to Quit: of\n",
      "Enter a word or type Q to Quit: death.\n",
      "Enter a word or type Q to Quit: Q\n"
     ]
    }
   ],
   "source": [
    "#The Walrus operator allows this to be done in less lines with better readability\n",
    "word_bank=list()\n",
    "while word:=input(\"Enter a word or type Q to Quit: \") != \"Q\":\n",
    "    word_bank.append(word)\n"
   ]
  },
  {
   "cell_type": "code",
   "execution_count": null,
   "metadata": {},
   "outputs": [],
   "source": [
    "#The scope of the assigned varible word is now\n",
    "word_bank=list()\n",
    "while word:=input(\"Enter a word or type Q to Quit: \") != \"Q\":\n",
    "    word_bank.append(word)\n"
   ]
  },
  {
   "cell_type": "markdown",
   "metadata": {},
   "source": [
    "### Usage in comprehensions\n"
   ]
  },
  {
   "cell_type": "code",
   "execution_count": 39,
   "metadata": {},
   "outputs": [
    {
     "name": "stdout",
     "output_type": "stream",
     "text": [
      "{1: 1, 2: 8, 3: 27, 4: 64, 5: 125}\n",
      "{1: 1, 2: 8, 3: 27, 4: 64, 5: 125}\n",
      "125\n"
     ]
    }
   ],
   "source": [
    "#You can reduce redunancy in comprehensions\n",
    "def cubed(n):\n",
    "    return n**3\n",
    "#instead of\n",
    "cubed_dictionary={x: cubed(x) for x in [1,2,3,4,5] if cubed(x) < 500}\n",
    "print (cubed_dictionary)\n",
    "\n",
    "#we can now (notice the parentheses)\n",
    "cubed_dictionary={x: new_var for x in [1,2,3,4,5] if (new_var:=cubed(x)) < 500}\n",
    "print(cubed_dictionary)\n",
    "print(new_var) # new_var leaks the scope of the comprehension"
   ]
  },
  {
   "cell_type": "code",
   "execution_count": null,
   "metadata": {},
   "outputs": [],
   "source": []
  }
 ],
 "metadata": {
  "kernelspec": {
   "display_name": "Python 3",
   "language": "python",
   "name": "python3"
  },
  "language_info": {
   "codemirror_mode": {
    "name": "ipython",
    "version": 3
   },
   "file_extension": ".py",
   "mimetype": "text/x-python",
   "name": "python",
   "nbconvert_exporter": "python",
   "pygments_lexer": "ipython3",
   "version": "3.8.5"
  }
 },
 "nbformat": 4,
 "nbformat_minor": 2
}
