{
 "cells": [
  {
   "cell_type": "markdown",
   "metadata": {},
   "source": [
    "### Updating a Dictionary"
   ]
  },
  {
   "cell_type": "code",
   "execution_count": 11,
   "metadata": {},
   "outputs": [
    {
     "name": "stdout",
     "output_type": "stream",
     "text": [
      "Your python version is 3.9\n"
     ]
    }
   ],
   "source": [
    "import sys\n",
    "print(f\"Your python version is {sys.version_info.major}.{sys.version_info.minor}\")"
   ]
  },
  {
   "cell_type": "markdown",
   "metadata": {},
   "source": [
    "### Use Python 3.9+\n",
    "This notebook uses features new in python 3.9<br>\n",
    "If the cell above outputs a version lower that 3.9 you will need to stop your jupyter notebook server\n",
    "<br>\n",
    "then in the terminal/command line run:\n",
    "<code>\n",
    "conda create --name python39 python==3.9\n",
    "conda activate python39\n",
    "conda install jupyter notebook\n",
    "jupyter notebook\n",
    "</code>\n"
   ]
  },
  {
   "cell_type": "code",
   "execution_count": 36,
   "metadata": {},
   "outputs": [],
   "source": [
    "nfl_mvp_15_17={\n",
    "    2015:\"Cam Newton\",\n",
    "    2016:\"Matt Ryan\",\n",
    "    2017:\"Tom Brady\",\n",
    "\n",
    "}\n",
    "nfl_mvp_18_20={\n",
    "    \n",
    "    2018:\"Patrick Mahomes\",\n",
    "    2019:\"Lamar Jackson\",\n",
    "    2020:\"Aaron Rodgers\"\n",
    "}"
   ]
  },
  {
   "cell_type": "code",
   "execution_count": 37,
   "metadata": {},
   "outputs": [
    {
     "data": {
      "text/plain": [
       "{2015: 'Cam Newton',\n",
       " 2016: 'Matt Ryan',\n",
       " 2017: 'Tom Brady',\n",
       " 2018: 'Patrick Mahomes',\n",
       " 2019: 'Lamar Jackson',\n",
       " 2020: 'Aaron Rodgers'}"
      ]
     },
     "execution_count": 37,
     "metadata": {},
     "output_type": "execute_result"
    }
   ],
   "source": [
    "#unpacking method\n",
    "{**nfl_mvp_15_17, **nfl_mvp_18_20}"
   ]
  },
  {
   "cell_type": "code",
   "execution_count": 38,
   "metadata": {},
   "outputs": [
    {
     "name": "stdout",
     "output_type": "stream",
     "text": [
      "{2015: 'Cam Newton', 2016: 'Matt Ryan', 2017: 'Tom Brady', 2018: 'Patrick Mahomes', 2019: 'Lamar Jackson', 2020: 'Aaron Rodgers'}\n"
     ]
    }
   ],
   "source": [
    "#looping method\n",
    "nfl_mvps = nfl_mvp_15_17.copy()\n",
    "for key, value in nfl_mvp_18_20.items():\n",
    "    nfl_mvps[key] = value\n",
    "print(nfl_mvps)"
   ]
  },
  {
   "cell_type": "code",
   "execution_count": 39,
   "metadata": {},
   "outputs": [
    {
     "name": "stdout",
     "output_type": "stream",
     "text": [
      "<class 'NoneType'>\n",
      "{2015: 'Cam Newton', 2016: 'Matt Ryan', 2017: 'Tom Brady', 2018: 'Patrick Mahomes', 2019: 'Lamar Jackson', 2020: 'Aaron Rodgers'}\n"
     ]
    }
   ],
   "source": [
    "#inplace method with update\n",
    "print(type(nfl_mvp_15_17.update(nfl_mvp_18_20))) #return type of None\n",
    "\n",
    "print(nfl_mvp_15_17)"
   ]
  },
  {
   "cell_type": "markdown",
   "metadata": {},
   "source": [
    "## New in Python 3.9\n",
    "You can update dictionaries in place with the in-place union operator ( |= )<br>\n",
    "or out of place with the unoin operator ( | )<br>\n",
    "works with dictionary like data type (like default dict)<br>\n",
    "Note: In all the cases in this worksheet if a key is duplicated in both dictionaries the value of the second dictionary will take that key, so in these examples nfl_mvp_18_20 identical key will override nfl_mvp_15_17 value"
   ]
  },
  {
   "cell_type": "code",
   "execution_count": 40,
   "metadata": {},
   "outputs": [
    {
     "name": "stdout",
     "output_type": "stream",
     "text": [
      "{2015: 'Cam Newton', 2016: 'Matt Ryan', 2017: 'Tom Brady', 2018: 'Patrick Mahomes', 2019: 'Lamar Jackson', 2020: 'Aaron Rodgers'}\n"
     ]
    }
   ],
   "source": [
    "#Out of Place\n",
    "nfl_mvps=nfl_mvp_15_17 | nfl_mvp_18_20\n",
    "print(nfl_mvps)"
   ]
  },
  {
   "cell_type": "code",
   "execution_count": 41,
   "metadata": {},
   "outputs": [
    {
     "name": "stdout",
     "output_type": "stream",
     "text": [
      "{2015: 'Cam Newton', 2016: 'Matt Ryan', 2017: 'Tom Brady', 2018: 'Patrick Mahomes', 2019: 'Lamar Jackson', 2020: 'Aaron Rodgers'}\n"
     ]
    }
   ],
   "source": [
    "#In place\n",
    "nfl_mvp_15_17 |= nfl_mvp_18_20\n",
    "print(nfl_mvp_15_17)"
   ]
  },
  {
   "cell_type": "code",
   "execution_count": null,
   "metadata": {},
   "outputs": [],
   "source": []
  }
 ],
 "metadata": {
  "kernelspec": {
   "display_name": "Python 3",
   "language": "python",
   "name": "python3"
  },
  "language_info": {
   "codemirror_mode": {
    "name": "ipython",
    "version": 3
   },
   "file_extension": ".py",
   "mimetype": "text/x-python",
   "name": "python",
   "nbconvert_exporter": "python",
   "pygments_lexer": "ipython3",
   "version": "3.9.0"
  }
 },
 "nbformat": 4,
 "nbformat_minor": 2
}
